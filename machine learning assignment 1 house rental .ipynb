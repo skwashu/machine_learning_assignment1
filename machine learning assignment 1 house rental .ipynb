{
 "cells": [
  {
   "cell_type": "code",
   "execution_count": 76,
   "id": "eedb147c",
   "metadata": {},
   "outputs": [],
   "source": [
    "import pandas as pd\n",
    "import numpy as np\n",
    "import seaborn as sns\n",
    "from sklearn.neighbors import KNeighborsRegressor,KNeighborsClassifier\n",
    "from sklearn.preprocessing import MinMaxScaler\n",
    "from sklearn.model_selection import train_test_split,cross_val_score\n",
    "from sklearn.metrics import mean_squared_error\n",
    "from math import sqrt\n",
    "import matplotlib.pyplot as plt\n",
    "%matplotlib inline"
   ]
  },
  {
   "cell_type": "code",
   "execution_count": 65,
   "id": "1303386c",
   "metadata": {},
   "outputs": [
    {
     "data": {
      "text/html": [
       "<div>\n",
       "<style scoped>\n",
       "    .dataframe tbody tr th:only-of-type {\n",
       "        vertical-align: middle;\n",
       "    }\n",
       "\n",
       "    .dataframe tbody tr th {\n",
       "        vertical-align: top;\n",
       "    }\n",
       "\n",
       "    .dataframe thead th {\n",
       "        text-align: right;\n",
       "    }\n",
       "</style>\n",
       "<table border=\"1\" class=\"dataframe\">\n",
       "  <thead>\n",
       "    <tr style=\"text-align: right;\">\n",
       "      <th></th>\n",
       "      <th>Sqft</th>\n",
       "      <th>Floor</th>\n",
       "      <th>TotalFloor</th>\n",
       "      <th>Bedroom</th>\n",
       "      <th>Living.Room</th>\n",
       "      <th>Bathroom</th>\n",
       "      <th>Price</th>\n",
       "    </tr>\n",
       "  </thead>\n",
       "  <tbody>\n",
       "    <tr>\n",
       "      <th>0</th>\n",
       "      <td>1177.698</td>\n",
       "      <td>2</td>\n",
       "      <td>7</td>\n",
       "      <td>2</td>\n",
       "      <td>2</td>\n",
       "      <td>2</td>\n",
       "      <td>62000</td>\n",
       "    </tr>\n",
       "    <tr>\n",
       "      <th>1</th>\n",
       "      <td>2134.800</td>\n",
       "      <td>5</td>\n",
       "      <td>7</td>\n",
       "      <td>4</td>\n",
       "      <td>2</td>\n",
       "      <td>2</td>\n",
       "      <td>78000</td>\n",
       "    </tr>\n",
       "    <tr>\n",
       "      <th>2</th>\n",
       "      <td>1138.560</td>\n",
       "      <td>5</td>\n",
       "      <td>7</td>\n",
       "      <td>2</td>\n",
       "      <td>2</td>\n",
       "      <td>1</td>\n",
       "      <td>58000</td>\n",
       "    </tr>\n",
       "    <tr>\n",
       "      <th>3</th>\n",
       "      <td>1458.780</td>\n",
       "      <td>2</td>\n",
       "      <td>7</td>\n",
       "      <td>3</td>\n",
       "      <td>2</td>\n",
       "      <td>2</td>\n",
       "      <td>45000</td>\n",
       "    </tr>\n",
       "    <tr>\n",
       "      <th>4</th>\n",
       "      <td>967.776</td>\n",
       "      <td>11</td>\n",
       "      <td>14</td>\n",
       "      <td>3</td>\n",
       "      <td>2</td>\n",
       "      <td>2</td>\n",
       "      <td>45000</td>\n",
       "    </tr>\n",
       "  </tbody>\n",
       "</table>\n",
       "</div>"
      ],
      "text/plain": [
       "       Sqft  Floor  TotalFloor  Bedroom  Living.Room  Bathroom  Price\n",
       "0  1177.698      2           7        2            2         2  62000\n",
       "1  2134.800      5           7        4            2         2  78000\n",
       "2  1138.560      5           7        2            2         1  58000\n",
       "3  1458.780      2           7        3            2         2  45000\n",
       "4   967.776     11          14        3            2         2  45000"
      ]
     },
     "execution_count": 65,
     "metadata": {},
     "output_type": "execute_result"
    }
   ],
   "source": [
    "url = 'C:\\\\Users\\\\SAGAR\\\\house_rental_data.csv.txt'\n",
    "house_prices = pd.read_csv(url,sep=\",\")\n",
    "house_prices = house_prices.drop(house_prices.columns[0], axis=1)\n",
    "house_prices.head()"
   ]
  },
  {
   "cell_type": "code",
   "execution_count": 66,
   "id": "446ff972",
   "metadata": {},
   "outputs": [
    {
     "data": {
      "text/plain": [
       "Sqft           0\n",
       "Floor          0\n",
       "TotalFloor     0\n",
       "Bedroom        0\n",
       "Living.Room    0\n",
       "Bathroom       0\n",
       "Price          0\n",
       "dtype: int64"
      ]
     },
     "execution_count": 66,
     "metadata": {},
     "output_type": "execute_result"
    }
   ],
   "source": [
    "#Checking for Null Values\n",
    "\n",
    "house_prices.isnull().sum()"
   ]
  },
  {
   "cell_type": "code",
   "execution_count": 68,
   "id": "a7d73118",
   "metadata": {},
   "outputs": [
    {
     "name": "stdout",
     "output_type": "stream",
     "text": [
      "              Sqft       Floor  TotalFloor     Bedroom  Living.Room  \\\n",
      "count   645.000000  645.000000  645.000000  645.000000   645.000000   \n",
      "mean   1527.656260    5.939535   10.855814    2.837209     1.813953   \n",
      "std     767.386531    3.884721    4.996208    1.010740     0.462364   \n",
      "min     359.358000    1.000000    1.000000    1.000000     0.000000   \n",
      "25%     925.080000    3.000000    7.000000    2.000000     2.000000   \n",
      "50%    1423.200000    5.000000   12.000000    3.000000     2.000000   \n",
      "75%    1892.856000    8.000000   14.000000    4.000000     2.000000   \n",
      "max    5856.468000   22.000000   38.000000    7.000000     4.000000   \n",
      "\n",
      "         Bathroom          Price  \n",
      "count  645.000000     645.000000  \n",
      "mean     1.810853   61986.823256  \n",
      "std      0.683574   35635.091007  \n",
      "min      0.000000    6100.000000  \n",
      "25%      1.000000   39000.000000  \n",
      "50%      2.000000   50000.000000  \n",
      "75%      2.000000   75000.000000  \n",
      "max      5.000000  250000.000000  \n"
     ]
    }
   ],
   "source": [
    "#EDA\n",
    "\n",
    "print(house_prices.describe())"
   ]
  },
  {
   "cell_type": "code",
   "execution_count": 69,
   "id": "de3e492d",
   "metadata": {},
   "outputs": [
    {
     "name": "stderr",
     "output_type": "stream",
     "text": [
      "C:\\Users\\SAGAR\\.conda\\anaconda3\\lib\\site-packages\\seaborn\\distributions.py:2619: FutureWarning: `distplot` is a deprecated function and will be removed in a future version. Please adapt your code to use either `displot` (a figure-level function with similar flexibility) or `histplot` (an axes-level function for histograms).\n",
      "  warnings.warn(msg, FutureWarning)\n"
     ]
    },
    {
     "data": {
      "text/plain": [
       "<AxesSubplot:xlabel='Price', ylabel='Density'>"
      ]
     },
     "execution_count": 69,
     "metadata": {},
     "output_type": "execute_result"
    },
    {
     "data": {
      "image/png": "[encoded data removed]",
      "text/plain": [
       "<Figure size 432x288 with 1 Axes>"
      ]
     },
     "metadata": {},
     "output_type": "display_data"
    }
   ],
   "source": [
    "# Getting an idea about outliers in Target variable\n",
    "\n",
    "sns.set(rc = {'figure.figsize' : (6,4)})\n",
    "sns.distplot(house_prices['Price'], bins = 30)"
   ]
  },
  {
   "cell_type": "code",
   "execution_count": 70,
   "id": "a839b116",
   "metadata": {},
   "outputs": [
    {
     "name": "stderr",
     "output_type": "stream",
     "text": [
      "C:\\Users\\SAGAR\\.conda\\anaconda3\\lib\\site-packages\\seaborn\\distributions.py:2619: FutureWarning: `distplot` is a deprecated function and will be removed in a future version. Please adapt your code to use either `displot` (a figure-level function with similar flexibility) or `histplot` (an axes-level function for histograms).\n",
      "  warnings.warn(msg, FutureWarning)\n"
     ]
    },
    {
     "data": {
      "text/plain": [
       "<AxesSubplot:xlabel='Price', ylabel='Density'>"
      ]
     },
     "execution_count": 70,
     "metadata": {},
     "output_type": "execute_result"
    },
    {
     "data": {
      "image/png": "[encoded data removed]",
      "text/plain": [
       "<Figure size 432x288 with 1 Axes>"
      ]
     },
     "metadata": {},
     "output_type": "display_data"
    }
   ],
   "source": [
    "# Removing outliers\n",
    "\n",
    "house_prices = house_prices[house_prices['Price']<120000]\n",
    "# Getting an idea about outliers in Target variable\n",
    "\n",
    "sns.set(rc = {'figure.figsize' : (6,4)})\n",
    "sns.distplot(house_prices['Price'], bins = 30)"
   ]
  },
  {
   "cell_type": "code",
   "execution_count": 73,
   "id": "868193c4",
   "metadata": {},
   "outputs": [
    {
     "name": "stdout",
     "output_type": "stream",
     "text": [
      "X matrix dimensionality: (594, 6)\n",
      "Y vector dimensionality: (594,)\n"
     ]
    }
   ],
   "source": [
    "# Create input and output features\n",
    "X = house_prices.drop(['Price'], axis=1)\n",
    "\n",
    "y = house_prices['Price']\n",
    "  \n",
    "# Printing Data shape    \n",
    "print('X matrix dimensionality:', X.shape)\n",
    "print('Y vector dimensionality:', y.shape)"
   ]
  },
  {
   "cell_type": "code",
   "execution_count": 74,
   "id": "1b865aee",
   "metadata": {},
   "outputs": [],
   "source": [
    "# Split into training dataset and test dataset \n",
    "X_train, X_test, y_train, y_test = train_test_split(X, y, test_size = 0.2, random_state=7) "
   ]
  },
  {
   "cell_type": "code",
   "execution_count": 77,
   "id": "20798fee",
   "metadata": {},
   "outputs": [
    {
     "name": "stdout",
     "output_type": "stream",
     "text": [
      "RMSE value for k =  1 is :  14966.389889887756\n",
      "RMSE value for k =  2 is :  14999.586551935077\n",
      "RMSE value for k =  3 is :  14710.300762933017\n",
      "RMSE value for k =  4 is :  14905.23966718548\n",
      "RMSE value for k =  5 is :  15298.486199269642\n",
      "RMSE value for k =  6 is :  15499.841875620354\n",
      "RMSE value for k =  7 is :  15726.724450927813\n",
      "RMSE value for k =  8 is :  15474.854115071548\n",
      "RMSE value for k =  9 is :  15516.332357978188\n",
      "RMSE value for k =  10 is :  15520.271866151175\n",
      "RMSE value for k =  11 is :  15349.680098200464\n",
      "RMSE value for k =  12 is :  15544.17946324709\n",
      "RMSE value for k =  13 is :  15534.698648758913\n",
      "RMSE value for k =  14 is :  15496.956492126596\n",
      "RMSE value for k =  15 is :  15244.295044715758\n",
      "RMSE value for k =  16 is :  15018.204735214382\n",
      "RMSE value for k =  17 is :  14982.290098342153\n",
      "RMSE value for k =  18 is :  14928.382706794908\n",
      "RMSE value for k =  19 is :  14789.604725926165\n"
     ]
    }
   ],
   "source": [
    "# Finding Optimal Value of k\n",
    "# Empty list for appending rmse\n",
    "rmse_val = []\n",
    "for K in range(1,20):\n",
    "    model = KNeighborsRegressor(n_neighbors = K)\n",
    "    model.fit(X_train,y_train)\n",
    "    pred = model.predict(X_test)\n",
    "    error = np.sqrt(mean_squared_error(y_test, pred))\n",
    "    rmse_val.append(error)\n",
    "    print('RMSE value for k = ', K, 'is : ', error)"
   ]
  },
  {
   "cell_type": "code",
   "execution_count": 78,
   "id": "73445b98",
   "metadata": {},
   "outputs": [
    {
     "name": "stdout",
     "output_type": "stream",
     "text": [
      "R2 value for k =  1 is :  0.5826847700521105\n",
      "R2 value for k =  2 is :  0.5808314391127636\n",
      "R2 value for k =  3 is :  0.5968439054299615\n",
      "R2 value for k =  4 is :  0.586087966997981\n",
      "R2 value for k =  5 is :  0.5639592850799909\n",
      "R2 value for k =  6 is :  0.5524055835792911\n",
      "R2 value for k =  7 is :  0.539206143771706\n",
      "R2 value for k =  8 is :  0.5538475810978535\n",
      "R2 value for k =  9 is :  0.5514526739582946\n",
      "R2 value for k =  10 is :  0.5512248778349793\n",
      "R2 value for k =  11 is :  0.5610361234656844\n",
      "R2 value for k =  12 is :  0.5498412167060392\n",
      "R2 value for k =  13 is :  0.5503901772194714\n",
      "R2 value for k =  14 is :  0.5525722125479081\n",
      "R2 value for k =  15 is :  0.567042949503977\n",
      "R2 value for k =  16 is :  0.5797902103421502\n",
      "R2 value for k =  17 is :  0.581797592329015\n",
      "R2 value for k =  18 is :  0.5848016248146589\n",
      "R2 value for k =  19 is :  0.5924853192245979\n"
     ]
    }
   ],
   "source": [
    " # Finding Optimal Value of k\n",
    "from sklearn.metrics import r2_score\n",
    "# Empty list for appending rmse\n",
    "r2_val = []\n",
    "for K in range(1,20):\n",
    "    model = KNeighborsRegressor(n_neighbors = K)\n",
    "    model.fit(X_train,y_train)\n",
    "    pred = model.predict(X_test)\n",
    "    r2 = r2_score(y_test, pred)\n",
    "    r2_val.append(r2)\n",
    "    print('R2 value for k = ', K, 'is : ', r2)"
   ]
  },
  {
   "cell_type": "code",
   "execution_count": 79,
   "id": "59db45c8",
   "metadata": {},
   "outputs": [
    {
     "data": {
      "image/png": "[encoded data removed]",
      "text/plain": [
       "<Figure size 432x288 with 1 Axes>"
      ]
     },
     "metadata": {
      "needs_background": "light"
     },
     "output_type": "display_data"
    }
   ],
   "source": [
    "# Plot\n",
    "k_range = range(1,20)\n",
    "plt.plot(k_range, rmse_val)\n",
    "plt.xlabel('Values of K')\n",
    "plt.ylabel('RMSE')\n",
    "plt.title('Optimal Value of K ')\n",
    "plt.show()"
   ]
  },
  {
   "cell_type": "code",
   "execution_count": 80,
   "id": "06718219",
   "metadata": {},
   "outputs": [
    {
     "data": {
      "image/png": "[encoded data removed]",
      "text/plain": [
       "<Figure size 432x288 with 1 Axes>"
      ]
     },
     "metadata": {
      "needs_background": "light"
     },
     "output_type": "display_data"
    }
   ],
   "source": [
    "# Plot\n",
    "k_range = range(1,20)\n",
    "plt.plot(k_range, r2_val)\n",
    "plt.xlabel('Values of K')\n",
    "plt.ylabel('R2 Score')\n",
    "plt.title('Optimal Value of K ')\n",
    "plt.show()"
   ]
  },
  {
   "cell_type": "code",
   "execution_count": 81,
   "id": "ddde411d",
   "metadata": {},
   "outputs": [
    {
     "name": "stdout",
     "output_type": "stream",
     "text": [
      "RMSE :  15726.724450927813\n",
      "R2 Score :  0.539206143771706\n"
     ]
    }
   ],
   "source": [
    "# Optimal model\n",
    "model = KNeighborsRegressor(n_neighbors=7)\n",
    "\n",
    "# Fitting the model\n",
    "model.fit(X_train,y_train)\n",
    "\n",
    "# Predicting the model\n",
    "y_pred = model.predict(X_test)\n",
    "\n",
    "# RMSE and R2 Score\n",
    "\n",
    "print('RMSE : ',np.sqrt(mean_squared_error(y_test,y_pred)))\n",
    "print('R2 Score : ',r2_score(y_test,y_pred))"
   ]
  },
  {
   "cell_type": "code",
   "execution_count": null,
   "id": "ece108d5",
   "metadata": {},
   "outputs": [],
   "source": []
  }
 ],
 "metadata": {
  "kernelspec": {
   "display_name": "Python 3 (ipykernel)",
   "language": "python",
   "name": "python3"
  },
  "language_info": {
   "codemirror_mode": {
    "name": "ipython",
    "version": 3
   },
   "file_extension": ".py",
   "mimetype": "text/x-python",
   "name": "python",
   "nbconvert_exporter": "python",
   "pygments_lexer": "ipython3",
   "version": "3.9.12"
  }
 },
 "nbformat": 4,
 "nbformat_minor": 5
}
